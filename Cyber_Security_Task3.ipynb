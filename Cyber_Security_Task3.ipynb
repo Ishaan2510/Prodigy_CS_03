{
 "cells": [
  {
   "cell_type": "markdown",
   "id": "4c53f8f5-57e8-4090-98fb-6be680556172",
   "metadata": {},
   "source": [
    "Task 3: Password Complexity Checker\n",
    "\n",
    "Build a tool that assesses the strength of a password based on criteria such as length, presence of uppercase and lowercase letters, numbers, and special characters. Provide feedback to users on the password's strength."
   ]
  },
  {
   "cell_type": "markdown",
   "id": "71da1b91-85b5-4e3c-bb58-c4299cddd8fd",
   "metadata": {},
   "source": [
    "How to Use the Script:\n",
    "\n",
    "Run the script in your Python environment.\n",
    "Enter a password when prompted.\n",
    "\n",
    "The script will evaluate the password and provide its strength along with any feedback on how to improve it.\n",
    "\n",
    "Criteria Breakdown:\n",
    "1. Length: Password should be at least 8 characters long.\n",
    "2. Uppercase: Password should include at least one uppercase letter.\n",
    "3. Lowercase: Password should include at least one lowercase letter.\n",
    "4. Number: Password should include at least one number.\n",
    "5. Special Character: Password should include at least one special character (e.g., !, @, #, $).\n",
    "\n",
    "The re module in Python provides support for working with regular expressions. Regular expressions (regex) are a powerful tool for matching patterns in strings. They are commonly used for tasks such as searching, editing, and manipulating text."
   ]
  },
  {
   "cell_type": "code",
   "execution_count": null,
   "id": "30ad64f5-a2fa-40b5-b38b-7cbb6fc82743",
   "metadata": {},
   "outputs": [],
   "source": [
    "import re\n",
    "\n",
    "def assess_password_strength(password):\n",
    "    # Criteria for password strength\n",
    "    length_criteria = len(password) >= 8\n",
    "    uppercase_criteria = re.search(r'[A-Z]', password) is not None\n",
    "    lowercase_criteria = re.search(r'[a-z]', password) is not None\n",
    "    number_criteria = re.search(r'[0-9]', password) is not None\n",
    "    special_criteria = re.search(r'[\\W_]', password) is not None\n",
    "\n",
    "    # Count the number of criteria met\n",
    "    criteria_met = sum([length_criteria, uppercase_criteria, lowercase_criteria, number_criteria, special_criteria])\n",
    "\n",
    "    # Determine password strength\n",
    "    if criteria_met == 5:\n",
    "        strength = 'Strong'\n",
    "    elif criteria_met == 4:\n",
    "        strength = 'Moderate'\n",
    "    elif criteria_met == 3:\n",
    "        strength = 'Weak'\n",
    "    else:\n",
    "        strength = 'Very Weak'\n",
    "\n",
    "    # Provide feedback\n",
    "    feedback = []\n",
    "    if not length_criteria:\n",
    "        feedback.append('Password should be at least 8 characters long.')\n",
    "    if not uppercase_criteria:\n",
    "        feedback.append('Password should include at least one uppercase letter.')\n",
    "    if not lowercase_criteria:\n",
    "        feedback.append('Password should include at least one lowercase letter.')\n",
    "    if not number_criteria:\n",
    "        feedback.append('Password should include at least one number.')\n",
    "    if not special_criteria:\n",
    "        feedback.append('Password should include at least one special character.')\n",
    "\n",
    "    return strength, feedback\n",
    "\n",
    "# Example usage\n",
    "password = input(\"Enter a password to assess: \")\n",
    "strength, feedback = assess_password_strength(password)\n",
    "print(f\"Password Strength: {strength}\")\n",
    "for comment in feedback:\n",
    "    print(comment)\n"
   ]
  },
  {
   "cell_type": "code",
   "execution_count": null,
   "id": "80be5731-7d47-4aa6-80a6-0232088e9bcd",
   "metadata": {},
   "outputs": [],
   "source": []
  }
 ],
 "metadata": {
  "kernelspec": {
   "display_name": "Python 3 (ipykernel)",
   "language": "python",
   "name": "python3"
  },
  "language_info": {
   "codemirror_mode": {
    "name": "ipython",
    "version": 3
   },
   "file_extension": ".py",
   "mimetype": "text/x-python",
   "name": "python",
   "nbconvert_exporter": "python",
   "pygments_lexer": "ipython3",
   "version": "3.12.1"
  }
 },
 "nbformat": 4,
 "nbformat_minor": 5
}
